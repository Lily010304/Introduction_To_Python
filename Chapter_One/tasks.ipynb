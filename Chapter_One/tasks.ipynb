{
 "cells": [
  {
   "cell_type": "markdown",
   "metadata": {},
   "source": [
    "**Exercise**\n",
    "\n",
    "Your first Python code\n",
    "It's time to run your first Python code!\n",
    "\n",
    "Head to the code and hit the run code button to see the output."
   ]
  },
  {
   "cell_type": "code",
   "execution_count": 1,
   "metadata": {},
   "outputs": [
    {
     "name": "stdout",
     "output_type": "stream",
     "text": [
      "0.625\n"
     ]
    }
   ],
   "source": [
    "# Hit run code to see the output!\n",
    "print(5 / 8)"
   ]
  },
  {
   "cell_type": "markdown",
   "metadata": {},
   "source": [
    "**Exercise**\n",
    "\n",
    "Any comments?\n",
    "You can also add comments to your Python scripts. Comments are important to make sure that you and others can understand what your code is about and do not run as Python code.\n",
    "\n",
    "They start with # tag. \n",
    "See the comment in the editor, # Division"
   ]
  },
  {
   "cell_type": "code",
   "execution_count": 2,
   "metadata": {},
   "outputs": [
    {
     "name": "stdout",
     "output_type": "stream",
     "text": [
      "0.625\n",
      "17\n"
     ]
    }
   ],
   "source": [
    "# Division\n",
    "print(5 / 8)\n",
    "\n",
    "# Addition\n",
    "print(7 + 10)"
   ]
  },
  {
   "cell_type": "markdown",
   "metadata": {},
   "source": [
    "**Exercise**\n",
    "\n",
    "* Print the sum of 4 + 5.\n",
    "* Print the result of subtracting 5 from 5.\n",
    "* Print the result of multiplying 3 by 5.\n",
    "* Print the result of dividing 10 by 2."
   ]
  },
  {
   "cell_type": "code",
   "execution_count": null,
   "metadata": {},
   "outputs": [],
   "source": [
    "# Addition\n",
    "print(4 + 5)\n",
    "\n",
    "# Subtraction\n",
    "print(5 - 5)\n",
    "\n",
    "# Multiplication\n",
    "print(3 * 5)\n",
    "\n",
    "# Division\n",
    "print(10 / 2)"
   ]
  },
  {
   "cell_type": "markdown",
   "metadata": {},
   "source": [
    "**Exercise**\n",
    "\n",
    "* Create a variable savings with the value of 100.\n",
    "* Check out this variable by typing print(savings) in the script."
   ]
  },
  {
   "cell_type": "markdown",
   "metadata": {},
   "source": [
    "# Create a variable savings\n",
    "savings = 100\n",
    "\n",
    "# Print out savings\n",
    "print(savings)"
   ]
  },
  {
   "cell_type": "markdown",
   "metadata": {},
   "source": [
    "**Exercise**\n",
    "\n",
    "* Create a variable monthly_savings, equal to 10 and num_months, equal to 4.\n",
    "* Multiply monthly_savings by num_months and assign it to new_savings.\n",
    "* Print the value of new_savings."
   ]
  },
  {
   "cell_type": "markdown",
   "metadata": {},
   "source": [
    "# Create the variables monthly_savings and num_months\n",
    "monthly_savings = 10\n",
    "\n",
    "num_months = 4\n",
    "\n",
    "# Multiply monthly_savings and num_months\n",
    "new_savings = monthly_savings * num_months\n",
    "\n",
    "# Print new_savings\n",
    "print(new_savings)"
   ]
  },
  {
   "cell_type": "markdown",
   "metadata": {},
   "source": [
    "**Exercise**\n",
    "\n",
    "* Create a new float, half, with the value 0.5.\n",
    "* Create a new string, intro, with the value \"Hello! How are you?\".\n",
    "* Create a new boolean, is_good, with the value True."
   ]
  },
  {
   "cell_type": "code",
   "execution_count": null,
   "metadata": {},
   "outputs": [],
   "source": [
    "# Create a variable half\n",
    "half = 0.5\n",
    "\n",
    "# Create a variable intro\n",
    "intro = 'Hello! How are you?'\n",
    "\n",
    "# Create a variable is_good\n",
    "is_good = True"
   ]
  },
  {
   "cell_type": "markdown",
   "metadata": {},
   "source": [
    "**Exercise**\n",
    "\n",
    "* Add savings and new_savings and assign it to total_savings.\n",
    "* Use type() to print the resulting type of total_savings.\n",
    "* Calculate the sum of intro and intro and assign the result to doubleintro.\n",
    "* Print out doubleintro. Did you expect this?"
   ]
  },
  {
   "cell_type": "code",
   "execution_count": null,
   "metadata": {},
   "outputs": [],
   "source": [
    "savings = 100\n",
    "new_savings = 40\n",
    "\n",
    "# Calculate total_savings using savings and new_savings\n",
    "total_savings = savings + new_savings\n",
    "print(total_savings)\n",
    "\n",
    "# Print the type of total_savings\n",
    "print(type(total_savings))"
   ]
  },
  {
   "cell_type": "markdown",
   "metadata": {},
   "source": []
  }
 ],
 "metadata": {
  "kernelspec": {
   "display_name": "Python 3",
   "language": "python",
   "name": "python3"
  },
  "language_info": {
   "codemirror_mode": {
    "name": "ipython",
    "version": 3
   },
   "file_extension": ".py",
   "mimetype": "text/x-python",
   "name": "python",
   "nbconvert_exporter": "python",
   "pygments_lexer": "ipython3",
   "version": "3.12.3"
  }
 },
 "nbformat": 4,
 "nbformat_minor": 2
}
