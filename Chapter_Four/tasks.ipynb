{
 "cells": [
  {
   "cell_type": "markdown",
   "metadata": {},
   "source": [
    "**Exercise**\n",
    "\n",
    "* Import the numpy package as np, so that you can refer to numpy with np.\n",
    "* Use np.array() to create a numpy array from baseball. Name this array np_baseball.\n",
    "* Print out the type of np_baseball to check that you got it right."
   ]
  },
  {
   "cell_type": "code",
   "execution_count": null,
   "metadata": {
    "vscode": {
     "languageId": "plaintext"
    }
   },
   "outputs": [],
   "source": [
    "# Import the numpy package as np\n",
    "import numpy as np\n",
    "\n",
    "baseball = [180, 215, 210, 210, 188, 176, 209, 200]\n",
    "\n",
    "# Create a numpy array from baseball: np_baseball\n",
    "np_baseball = np.array(baseball)\n",
    "\n",
    "# Print out type of np_baseball\n",
    "print(type(np_baseball))"
   ]
  },
  {
   "cell_type": "markdown",
   "metadata": {},
   "source": [
    "**Exercise**\n",
    "\n",
    "* Create a numpy array from height_in. Name this new array np_height_in.\n",
    "* Print np_height_in.\n",
    "* Multiply np_height_in with 0.0254 to convert all height measurements from inches to meters. Store the new values in a new array, np_height_m.\n",
    "* Print out np_height_m and check if the output makes sense."
   ]
  },
  {
   "cell_type": "code",
   "execution_count": null,
   "metadata": {
    "vscode": {
     "languageId": "plaintext"
    }
   },
   "outputs": [],
   "source": [
    "# Import numpy\n",
    "import numpy as np\n",
    "\n",
    "# Create a numpy array from height_in: np_height_in\n",
    "np_height_in = np.array(height_in)\n",
    "\n",
    "# Print out np_height_in\n",
    "print(np_height_in)\n",
    "\n",
    "# Convert np_height_in to m: np_height_m\n",
    "np_height_m = np_height_in * 0.0254\n",
    "\n",
    "# Print np_height_m\n",
    "print(np_height_m)"
   ]
  },
  {
   "cell_type": "markdown",
   "metadata": {},
   "source": [
    "**Exercise**\n",
    "\n",
    "* Subset np_weight_lb by printing out the element at index 50.\n",
    "* Print out a sub-array of np_height_in that contains the elements at index 100 up to and including index 110."
   ]
  },
  {
   "cell_type": "code",
   "execution_count": null,
   "metadata": {
    "vscode": {
     "languageId": "plaintext"
    }
   },
   "outputs": [],
   "source": [
    "import numpy as np\n",
    "\n",
    "np_weight_lb = np.array(weight_lb)\n",
    "np_height_in = np.array(height_in)\n",
    "\n",
    "# Print out the weight at index 50\n",
    "print(np_weight_lb[50])\n",
    "\n",
    "# Print out sub-array of np_height_in: index 100 up to and including index 110\n",
    "print(np_height_in[100 : 111])"
   ]
  },
  {
   "cell_type": "markdown",
   "metadata": {},
   "source": [
    "**Exercise**\n",
    "\n",
    "* Use np.array() to create a 2D numpy array from baseball. Name it np_baseball.\n",
    "* Print out the type of np_baseball.\n",
    "* Print out the shape attribute of np_baseball. Use np_baseball.shape."
   ]
  },
  {
   "cell_type": "code",
   "execution_count": null,
   "metadata": {
    "vscode": {
     "languageId": "plaintext"
    }
   },
   "outputs": [],
   "source": [
    "import numpy as np\n",
    "\n",
    "baseball = [[180, 78.4],\n",
    "            [215, 102.7],\n",
    "            [210, 98.5],\n",
    "            [188, 75.2]]\n",
    "\n",
    "# Create a 2D numpy array from baseball: np_baseball\n",
    "np_baseball = np.array(baseball)\n",
    "\n",
    "# Print out the type of np_baseball\n",
    "print(type(np_baseball))\n",
    "\n",
    "# Print out the shape of np_baseball\n",
    "print(np_baseball.shape)"
   ]
  },
  {
   "cell_type": "markdown",
   "metadata": {},
   "source": [
    "**Exercise**\n",
    "\n",
    "* Use np.array() to create a 2D numpy array from baseball. Name it np_baseball.\n",
    "* Print out the shape attribute of np_baseball."
   ]
  },
  {
   "cell_type": "code",
   "execution_count": null,
   "metadata": {
    "vscode": {
     "languageId": "plaintext"
    }
   },
   "outputs": [],
   "source": [
    "import numpy as np\n",
    "\n",
    "# Create a 2D numpy array from baseball: np_baseball\n",
    "np_baseball = np.array(baseball)\n",
    "\n",
    "# Print out the shape of np_baseball\n",
    "print(np_baseball.shape)"
   ]
  },
  {
   "cell_type": "markdown",
   "metadata": {},
   "source": [
    "**Exercise**\n",
    "\n",
    "* Print out the 50th row of np_baseball.\n",
    "* Make a new variable, np_weight_lb, containing the entire second column of np_baseball.\n",
    "* Select the height (first column) of the 124th baseball player in np_baseball and print it out."
   ]
  },
  {
   "cell_type": "code",
   "execution_count": null,
   "metadata": {
    "vscode": {
     "languageId": "plaintext"
    }
   },
   "outputs": [],
   "source": [
    "import numpy as np\n",
    "\n",
    "np_baseball = np.array(baseball)\n",
    "\n",
    "# Print out the 50th row of np_baseball\n",
    "print(np_baseball[49])\n",
    "\n",
    "# Select the entire second column of np_baseball: np_weight_lb\n",
    "np_weight_lb = np_baseball[:, 1]\n",
    "\n",
    "# Print out height of 124th player\n",
    "print(np_baseball[123, 0])"
   ]
  },
  {
   "cell_type": "markdown",
   "metadata": {},
   "source": [
    "**Exercise**\n",
    "\n",
    "\n",
    "* You managed to get hold of the changes in height, weight and age of all baseball players. It is available as a 2D numpy array, updated. \n",
    "* Add np_baseball and updated and print out the result.\n",
    "* You want to convert the units of height and weight to metric (meters and kilograms, respectively). \n",
    "* As a first step, create a numpy array with three values: 0.0254, 0.453592 and 1. Name this array conversion.\n",
    "* Multiply np_baseball with conversion and print out the result."
   ]
  },
  {
   "cell_type": "code",
   "execution_count": null,
   "metadata": {
    "vscode": {
     "languageId": "plaintext"
    }
   },
   "outputs": [],
   "source": [
    "import numpy as np\n",
    "\n",
    "np_baseball = np.array(baseball)\n",
    "\n",
    "# Print out addition of np_baseball and updated\n",
    "print(updated + np_baseball)\n",
    "\n",
    "# Create numpy array: conversion\n",
    "conversion = np.array([0.0254, 0.453592, 1])\n",
    "\n",
    "# Print out product of np_baseball and conversion\n",
    "print(np_baseball * conversion)"
   ]
  },
  {
   "cell_type": "markdown",
   "metadata": {},
   "source": [
    "**Exercise**\n",
    "\n",
    "\n",
    "* Create numpy array np_height_in that is equal to first column of np_baseball.\n",
    "* Print out the mean of np_height_in.\n",
    "* Print out the median of np_height_in."
   ]
  },
  {
   "cell_type": "code",
   "execution_count": null,
   "metadata": {
    "vscode": {
     "languageId": "plaintext"
    }
   },
   "outputs": [],
   "source": [
    "import numpy as np\n",
    "\n",
    "# Create np_height_in from np_baseball\n",
    "np_height_in = np.array(np_baseball[:, 0])\n",
    "\n",
    "# Print out the mean of np_height_in\n",
    "print(np.mean(np_height_in))\n",
    "\n",
    "# Print out the median of np_height_in\n",
    "print(np.median(np_height_in))"
   ]
  },
  {
   "cell_type": "markdown",
   "metadata": {},
   "source": [
    "**Exercise**\n",
    "\n",
    "\n",
    "* The code to print out the mean height is already included. Complete the code for the median height. \n",
    "* Replace None with the correct code.\n",
    "* Use np.std() on the first column of np_baseball to calculate stddev. \n",
    "* Replace None with the correct code.\n",
    "* Do big players tend to be heavier? Use np.corrcoef() to store the correlation between the first and second column of np_baseball in corr. \n",
    "* Replace None with the correct code."
   ]
  },
  {
   "cell_type": "code",
   "execution_count": null,
   "metadata": {
    "vscode": {
     "languageId": "plaintext"
    }
   },
   "outputs": [],
   "source": [
    "avg = np.mean(np_baseball[:,0])\n",
    "print(\"Average: \" + str(avg))\n",
    "\n",
    "# Print median height\n",
    "med = np.median(np_baseball[:,0])\n",
    "print(\"Median: \" + str(med))\n",
    "\n",
    "# Print out the standard deviation on height\n",
    "stddev = np.std(np_baseball[:,0])\n",
    "print(\"Standard Deviation: \" + str(stddev))\n",
    "\n",
    "# Print out correlation between first and second column\n",
    "corr = np.corrcoef(np_baseball[:,0], np_baseball[:,1])\n",
    "print(\"Correlation: \" + str(corr))"
   ]
  }
 ],
 "metadata": {
  "language_info": {
   "name": "python"
  }
 },
 "nbformat": 4,
 "nbformat_minor": 2
}
